{
 "cells": [
  {
   "cell_type": "code",
   "execution_count": 8,
   "id": "360eb1c6",
   "metadata": {},
   "outputs": [
    {
     "name": "stdout",
     "output_type": "stream",
     "text": [
      "Состояние сервера: 200\n",
      "{'message': 'ML server is running'}\n"
     ]
    }
   ],
   "source": [
    "import requests\n",
    "r = requests.get(\"http://localhost:8991/\")\n",
    "print(\"Состояние сервера:\", r.status_code)\n",
    "print(r.json())"
   ]
  },
  {
   "cell_type": "markdown",
   "id": "52a96d43",
   "metadata": {},
   "source": [
    "Реализуем функции для работы с клинетской частью:"
   ]
  },
  {
   "cell_type": "code",
   "execution_count": 9,
   "id": "4607969a",
   "metadata": {},
   "outputs": [],
   "source": [
    "MY_URL = \"http://localhost:8991\"\n",
    "\n",
    "def client_fit(X, y, model_type=\"logreg\", config={}):\n",
    "    try:\n",
    "        response = requests.post(f\"{MY_URL}/fit\", json={\n",
    "            \"model_type\": model_type,\n",
    "            \"config\": config,\n",
    "            \"X\": X,\n",
    "            \"y\": y\n",
    "        })\n",
    "        response.raise_for_status()\n",
    "        return response.json()\n",
    "    except requests.exceptions.HTTPError as e:\n",
    "        print(f\"[client_fit] Ошибка HTTP: {response.text}\")\n",
    "    except Exception as e:\n",
    "        print(f\"[client_fit] Ошибка: {e}\")\n",
    "\n",
    "def client_load(name: str):\n",
    "    try:\n",
    "        response = requests.post(f\"{MY_URL}/load\", params={\"name\": name})\n",
    "        response.raise_for_status()\n",
    "        return response.json()\n",
    "    except requests.exceptions.HTTPError as e:\n",
    "        print(f\"[client_load] Ошибка HTTP: {response.text}\")\n",
    "    except Exception as e:\n",
    "        print(f\"[client_load] Ошибка: {e}\")\n",
    "\n",
    "def client_unload(name: str):\n",
    "    try:\n",
    "        response = requests.post(f\"{MY_URL}/unload\", params={\"name\": name})\n",
    "        response.raise_for_status()\n",
    "        return response.json()\n",
    "    except requests.exceptions.HTTPError as e:\n",
    "        print(f\"[client_unload] Ошибка HTTP: {response.text}\")\n",
    "    except Exception as e:\n",
    "        print(f\"[client_unload] Ошибка: {e}\")\n",
    "\n",
    "def client_predict(name: str, X):\n",
    "    try:\n",
    "        response = requests.post(f\"{MY_URL}/predict\", json={\n",
    "            \"name\": name,\n",
    "            \"X\": X\n",
    "        })\n",
    "        response.raise_for_status()\n",
    "        return response.json()\n",
    "    except requests.exceptions.HTTPError as e:\n",
    "        print(f\"[client_predict] Ошибка HTTP: {response.text}\")\n",
    "    except Exception as e:\n",
    "        print(f\"[client_predict] Ошибка: {e}\")\n",
    "\n",
    "def client_remove(name: str):\n",
    "    try:\n",
    "        response = requests.post(f\"{MY_URL}/remove\", params={\"name\": name})\n",
    "        response.raise_for_status()\n",
    "        return response.json()\n",
    "    except requests.exceptions.HTTPError as e:\n",
    "        print(f\"[client_remove] Ошибка HTTP: {response.text}\")\n",
    "    except Exception as e:\n",
    "        print(f\"[client_remove] Ошибка: {e}\")\n",
    "\n",
    "def client_remove_all():\n",
    "    try:\n",
    "        response = requests.post(f\"{MY_URL}/remove_all\")\n",
    "        response.raise_for_status()\n",
    "        return response.json()\n",
    "    except requests.exceptions.HTTPError as e:\n",
    "        print(f\"[client_remove_all] Ошибка HTTP: {response.text}\")\n",
    "    except Exception as e:\n",
    "        print(f\"[client_remove_all] Ошибка: {e}\")"
   ]
  },
  {
   "cell_type": "markdown",
   "id": "8ab61131",
   "metadata": {},
   "source": [
    "Проверим функционал сервера - обучение, загрузка, выгрузка, удаление, а также обработка исключений:"
   ]
  },
  {
   "cell_type": "code",
   "execution_count": 6,
   "id": "aa6310b6",
   "metadata": {},
   "outputs": [
    {
     "name": "stdout",
     "output_type": "stream",
     "text": [
      "{'message': \"Обучение модели 'logreg' запущено\", 'pid': 42}\n"
     ]
    }
   ],
   "source": [
    "X = [[1, 2], [3, 4], [5, 6]]\n",
    "y = [0, 1, 0]\n",
    "resp = client_fit(X, y, model_type=\"logreg\")\n",
    "print(resp) "
   ]
  },
  {
   "cell_type": "code",
   "execution_count": 7,
   "id": "243f4700",
   "metadata": {},
   "outputs": [
    {
     "name": "stdout",
     "output_type": "stream",
     "text": [
      "{'message': \"Модель 'logreg' загружена\"}\n"
     ]
    }
   ],
   "source": [
    "model_name = resp[\"message\"].split(\"'\")[1]\n",
    "resp = client_load(model_name)\n",
    "print(resp)"
   ]
  },
  {
   "cell_type": "code",
   "execution_count": 8,
   "id": "8a835498",
   "metadata": {},
   "outputs": [
    {
     "name": "stdout",
     "output_type": "stream",
     "text": [
      "predict: {'predictions': [0, 0]}\n"
     ]
    }
   ],
   "source": [
    "X_new = [[7, 8], [9, 10]]\n",
    "resp = client_predict(model_name, X_new)\n",
    "print(\"predict:\", resp)"
   ]
  },
  {
   "cell_type": "code",
   "execution_count": 9,
   "id": "9306e056",
   "metadata": {},
   "outputs": [
    {
     "name": "stdout",
     "output_type": "stream",
     "text": [
      "[client_load] Ошибка HTTP: {\"detail\":\"Модель 'logreg' уже загружена\"}\n",
      "None\n"
     ]
    }
   ],
   "source": [
    "resp = client_load(model_name)\n",
    "print(resp)"
   ]
  },
  {
   "cell_type": "markdown",
   "id": "4dd01716",
   "metadata": {},
   "source": [
    "Видим \"хорошую\" ошибку"
   ]
  },
  {
   "cell_type": "code",
   "execution_count": 10,
   "id": "c21d017e",
   "metadata": {},
   "outputs": [
    {
     "name": "stdout",
     "output_type": "stream",
     "text": [
      "unload: {'message': \"Модель 'logreg' выгружена\"}\n"
     ]
    }
   ],
   "source": [
    "resp = client_unload(model_name)\n",
    "print(\"unload:\", resp)"
   ]
  },
  {
   "cell_type": "code",
   "execution_count": 11,
   "id": "63607f35",
   "metadata": {},
   "outputs": [
    {
     "name": "stdout",
     "output_type": "stream",
     "text": [
      "unload: {'message': \"Модель 'logreg' удалена\"}\n"
     ]
    }
   ],
   "source": [
    "resp = client_remove(model_name)\n",
    "print(\"unload:\", resp)"
   ]
  },
  {
   "cell_type": "code",
   "execution_count": 12,
   "id": "3d5e7265",
   "metadata": {},
   "outputs": [
    {
     "name": "stdout",
     "output_type": "stream",
     "text": [
      "[client_remove] Ошибка HTTP: {\"detail\":\"400: Файл модели не найден\"}\n",
      "unload: None\n"
     ]
    }
   ],
   "source": [
    "resp = client_remove(model_name)\n",
    "print(\"unload:\", resp)"
   ]
  },
  {
   "cell_type": "markdown",
   "id": "694d038b",
   "metadata": {},
   "source": [
    "Опять \"хорошая\" ошибка"
   ]
  },
  {
   "cell_type": "markdown",
   "id": "1637ba8a",
   "metadata": {},
   "source": [
    "Теперь посмотрим на перегрузку ядер: одно ядро всегда зарезервировано для сервера, то есть так как в .env \"N_CORES=4 MAX_LOADED=2\" - 3 модель должны обучаться нормально, а на 4 выдавать ошибку. "
   ]
  },
  {
   "cell_type": "code",
   "execution_count": 13,
   "id": "ce9ba799",
   "metadata": {},
   "outputs": [
    {
     "name": "stdout",
     "output_type": "stream",
     "text": [
      "LogReg: {'message': \"Обучение модели 'logreg' запущено\", 'pid': 54}\n",
      "LinReg: {'message': \"Обучение модели 'linreg' запущено\", 'pid': 66}\n",
      "RandomForest: {'message': \"Обучение модели 'RandomForest' запущено\", 'pid': 67}\n",
      "[client_fit] Ошибка HTTP: {\"detail\":\"Нет доступных ядер для обучения модели\"}\n",
      "RandomForest2: None\n"
     ]
    }
   ],
   "source": [
    "# logreg\n",
    "X1 = [[1, 2], [3, 4], [5, 6]]\n",
    "y1 = [0, 1, 0]\n",
    "resp1 = client_fit(X1, y1, model_type=\"logreg\")\n",
    "print(\"LogReg:\", resp1)\n",
    "\n",
    "# linreg\n",
    "X2 = [[10, 20], [30, 40], [50, 60]]\n",
    "y2 = [100, 200, 300]\n",
    "resp2 = client_fit(X2, y2, model_type=\"linreg\")\n",
    "print(\"LinReg:\", resp2)\n",
    "\n",
    "# random forest\n",
    "X3 = [[0, 1], [1, 0], [0.5, 0.5]]\n",
    "y3 = [1.0, 0.0, 0.5]\n",
    "resp3 = client_fit(X3, y3, model_type=\"RandomForest\")\n",
    "print(\"RandomForest:\", resp3)\n",
    "\n",
    "# random forest2\n",
    "X4 = [[0, 2], [1, 3], [0.5, 0.8]]\n",
    "y4 = [1.5, 0.0, 1.0]\n",
    "resp4 = client_fit(X4, y4, model_type=\"RandomForest\")\n",
    "print(\"RandomForest2:\", resp4)"
   ]
  },
  {
   "cell_type": "markdown",
   "id": "8e090da2",
   "metadata": {},
   "source": [
    "А отдельно дополнительно обучить 4-ую модель - можно:"
   ]
  },
  {
   "cell_type": "code",
   "execution_count": 14,
   "id": "4ad7c2e8",
   "metadata": {},
   "outputs": [
    {
     "name": "stdout",
     "output_type": "stream",
     "text": [
      "RandomForest2: {'message': \"Обучение модели 'RandomForest_1' запущено\", 'pid': 68}\n"
     ]
    }
   ],
   "source": [
    "# random forest2\n",
    "X4 = [[0, 2], [1, 3], [0.5, 0.8]]\n",
    "y4 = [1.5, 0.0, 1.0]\n",
    "resp4 = client_fit(X4, y4, model_type=\"RandomForest\")\n",
    "print(\"RandomForest2:\", resp4)"
   ]
  },
  {
   "cell_type": "markdown",
   "id": "362d95ef",
   "metadata": {},
   "source": [
    "Так и происходит, причем в директории models приcутствуют только 3 созраненные модели. Аналогично с загрузкой - 2 можно, а 3 - уже нельзя"
   ]
  },
  {
   "cell_type": "code",
   "execution_count": 15,
   "id": "20fb6238",
   "metadata": {},
   "outputs": [
    {
     "name": "stdout",
     "output_type": "stream",
     "text": [
      "Загрузка logreg: {'message': \"Модель 'logreg' загружена\"}\n",
      "Загрузка linreg: {'message': \"Модель 'linreg' загружена\"}\n",
      "[client_load] Ошибка HTTP: {\"detail\":\"Превышен лимит одновременно загруженных моделей\"}\n",
      "Загрузка RandomForest: None\n"
     ]
    }
   ],
   "source": [
    "print(\"Загрузка logreg:\", client_load(\"logreg\"))\n",
    "print(\"Загрузка linreg:\", client_load(\"linreg\"))\n",
    "print(\"Загрузка RandomForest:\", client_load(\"RandomForest\"))"
   ]
  },
  {
   "cell_type": "code",
   "execution_count": 10,
   "id": "2b87cf79",
   "metadata": {},
   "outputs": [
    {
     "name": "stdout",
     "output_type": "stream",
     "text": [
      "{'message': 'ВСе модели удалены'}\n"
     ]
    }
   ],
   "source": [
    "print(client_remove_all())"
   ]
  },
  {
   "cell_type": "markdown",
   "id": "ed37c241",
   "metadata": {},
   "source": [
    "Теперь посмотрим на работу на относительно больших данных, вначале напишем функции для их генерации:"
   ]
  },
  {
   "cell_type": "code",
   "execution_count": 14,
   "id": "467de000",
   "metadata": {},
   "outputs": [],
   "source": [
    "import numpy as np\n",
    "\n",
    "def generate_classification_dataset(n_samples=400000, n_features=100):\n",
    "    X = np.random.rand(n_samples, n_features).tolist()\n",
    "    y = np.random.randint(0, 2, size=n_samples).tolist()\n",
    "    return X, y\n",
    "\n",
    "def generate_regression_dataset(n_samples=400000, n_features=100):\n",
    "    X = np.random.rand(n_samples, n_features).tolist()\n",
    "    y = np.random.rand(n_samples).tolist()\n",
    "    return X, y"
   ]
  },
  {
   "cell_type": "markdown",
   "id": "5caa693a",
   "metadata": {},
   "source": [
    "Сгенерируем данные"
   ]
  },
  {
   "cell_type": "code",
   "execution_count": 6,
   "id": "b0113c8c",
   "metadata": {},
   "outputs": [],
   "source": [
    "X_log, y_log = generate_classification_dataset()\n",
    "X_lin, y_lin = generate_regression_dataset()"
   ]
  },
  {
   "cell_type": "markdown",
   "id": "e21ee728",
   "metadata": {},
   "source": [
    "А теперь проведем последовательный вызов двух различных моделей и измерим время:"
   ]
  },
  {
   "cell_type": "code",
   "execution_count": 7,
   "id": "9260c241",
   "metadata": {},
   "outputs": [
    {
     "name": "stdout",
     "output_type": "stream",
     "text": [
      "\n",
      "[Обучение] Модель: logreg\n",
      "logreg обучена за 72.02 секунд\n",
      "\n",
      "[Обучение] Модель: linreg\n",
      "linreg обучена за 79.02 секунд\n"
     ]
    }
   ],
   "source": [
    "import time\n",
    "results = {}\n",
    "\n",
    "print(\"\\n[Обучение] Модель: logreg\")\n",
    "start = time.time()\n",
    "resp_log = client_fit(X_log, y_log, model_type=\"logreg\")\n",
    "duration = time.time() - start\n",
    "print(f\"logreg обучена за {duration:.2f} секунд\")\n",
    "results[\"logreg\"] = {\"X\": X_log[:10]}\n",
    "\n",
    "print(\"\\n[Обучение] Модель: linreg\")\n",
    "start = time.time()\n",
    "resp_lin = client_fit(X_lin, y_lin, model_type=\"linreg\")\n",
    "duration = time.time() - start\n",
    "print(f\"linreg обучена за {duration:.2f} секунд\")\n",
    "results[\"linreg\"] = {\"X\": X_lin[:10]}"
   ]
  },
  {
   "cell_type": "markdown",
   "id": "0a9049bf",
   "metadata": {},
   "source": [
    "Ради интереса загрузим их и посмотрим на предсказание:"
   ]
  },
  {
   "cell_type": "code",
   "execution_count": 10,
   "id": "b324d95b",
   "metadata": {},
   "outputs": [
    {
     "name": "stdout",
     "output_type": "stream",
     "text": [
      "Загрузка logreg: {'message': \"Модель 'logreg' загружена\"}\n",
      "Загрузка linreg: {'message': \"Модель 'linreg' загружена\"}\n"
     ]
    }
   ],
   "source": [
    "print(\"Загрузка logreg:\", client_load(\"logreg\"))\n",
    "print(\"Загрузка linreg:\", client_load(\"linreg\"))"
   ]
  },
  {
   "cell_type": "markdown",
   "id": "b8ba1206",
   "metadata": {},
   "source": [
    "Для предсказания сгенерируем новые данные:"
   ]
  },
  {
   "cell_type": "code",
   "execution_count": 15,
   "id": "75eff71c",
   "metadata": {},
   "outputs": [],
   "source": [
    "X_log_new, _ = generate_classification_dataset(n_samples=10)\n",
    "X_lin_new, _ = generate_regression_dataset(n_samples=10)"
   ]
  },
  {
   "cell_type": "markdown",
   "id": "596e7e2c",
   "metadata": {},
   "source": [
    "Наконец выведем предсказание:"
   ]
  },
  {
   "cell_type": "code",
   "execution_count": 11,
   "id": "a16fb590",
   "metadata": {},
   "outputs": [
    {
     "name": "stdout",
     "output_type": "stream",
     "text": [
      "\n",
      "[Предсказание] logreg:\n",
      "Предсказания logreg: {'predictions': [1, 0, 1, 1, 1, 1, 0, 1, 1, 0]}\n",
      "logreg предсказала за 0.0167 секунд\n",
      "\n",
      "[Предсказание] linreg:\n",
      "Предсказания linreg: {'predictions': [0.4996118240098124, 0.4987946728844853, 0.5018381878534693, 0.49282494333190524, 0.4951154400123711, 0.504658513351744, 0.5051802775714751, 0.5036603955837079, 0.505568125420329, 0.4966195842874297]}\n",
      "linreg предсказала за 0.0090 секунд\n"
     ]
    }
   ],
   "source": [
    "print(\"\\n[Предсказание] logreg:\")\n",
    "start = time.time()\n",
    "response_log = client_predict(\"logreg\", X_log_new)\n",
    "duration = time.time() - start\n",
    "print(\"Предсказания logreg:\", response_log)\n",
    "print(f\"logreg предсказала за {duration:.4f} секунд\")\n",
    "\n",
    "print(\"\\n[Предсказание] linreg:\")\n",
    "start = time.time()\n",
    "response_lin = client_predict(\"linreg\", X_lin_new)\n",
    "duration = time.time() - start\n",
    "print(\"Предсказания linreg:\", response_lin)\n",
    "print(f\"linreg предсказала за {duration:.4f} секунд\")"
   ]
  },
  {
   "cell_type": "markdown",
   "id": "f9e68cba",
   "metadata": {},
   "source": [
    "Для асинхронной части сделаю следующее: Jupyter Notebook не справляется с управлением параллельными процессами из-за того, что используется multiprocessing.Process на стороне сервера, что требует запуска в отдельном процессе.\n",
    "\n",
    "При вызове client_fit() для двух моделей в отдельных потоках из ноутбука ядро Jupyter крашится так как не справляется с отправкой больших массивов данных.\n",
    "\n",
    "Чтобы обойти эту проблему, я вынес вызов асинхронного обучения в отдельный скрипт client_async.py, запускаемый из терминала. Он:\n",
    "\n",
    "Загружает данные на диск (/tmp/...npy),\n",
    "\n",
    "Отправляет запросы на /fit_from_file которую я дополнительно прописал на сторое сервера,\n",
    "\n",
    "И позволяет протестировать параллельное обучение моделей.\n",
    "\n",
    "Для того, чтобы измерить время исполнения, пришлось добавить в серверную часть сроку для печати текущего времени, а затем смотреть на время начала и завершения обучения в логах, иначе я могу измерить только время исполенния запроса, а не обучения."
   ]
  },
  {
   "cell_type": "code",
   "execution_count": 12,
   "id": "b5408713",
   "metadata": {},
   "outputs": [
    {
     "name": "stdout",
     "output_type": "stream",
     "text": [
      "[logreg] Запуск обучения...\n",
      "[linreg] Запуск обучения...\n",
      "[logreg] Запрос на обучение отправлен.\n",
      "[linreg] Запрос на обучение отправлен.\n",
      "Ждем завершения обучения моделей (примерно 90 секунд), а затем смотрб время в логах\n",
      "\n",
      "[ИТОГО] Клиент завершил работу за 0.38 секунд\n"
     ]
    }
   ],
   "source": [
    "!python3 client_async.py"
   ]
  },
  {
   "cell_type": "markdown",
   "id": "8b0dd5f8",
   "metadata": {},
   "source": [
    "В логах вывод:\n",
    "\n",
    "Начало обучения ./models/logreg_1.pkl в 2025-06-27 20:50:18.910673\n",
    "\n",
    "Модель сохранена в ./models/logreg_1.pkl\n",
    "\n",
    "Обучение модели ./models/logreg_1.pkl завершено в 2025-06-27 20:50:20.182342\n",
    "\n",
    "Начало обучения ./models/linreg_1.pkl в 2025-06-27 20:50:18.919593\n",
    "\n",
    "Модель сохранена в ./models/linreg_1.pkl\n",
    "\n",
    "Обучение модели ./models/linreg_1.pkl завершено в 2025-06-27 20:50:23.254491\n",
    "\n",
    "То есть асинхронное обучение значительно быстрее"
   ]
  },
  {
   "cell_type": "markdown",
   "id": "d2d86cff",
   "metadata": {},
   "source": [
    "Наконец, сделаем асинхронное предсказание (на тех же данных, что и последовательное)"
   ]
  },
  {
   "cell_type": "code",
   "execution_count": 19,
   "id": "b9a40908",
   "metadata": {},
   "outputs": [
    {
     "name": "stdout",
     "output_type": "stream",
     "text": [
      "Загрузка logreg: {'message': \"Модель 'logreg_1' загружена\"}\n",
      "Загрузка linreg: {'message': \"Модель 'linreg_1' загружена\"}\n",
      "[logreg_1] завершено за 0.02 секунд\n",
      "[linreg_1] завершено за 0.02 секунд\n",
      "\n",
      "[ИТОГО] Асинхронное предсказание заняло 0.03 секунд\n",
      "\n",
      "logreg_1: предсказание заняло 0.02 секунд\n",
      "Результат: {'predictions': [1, 0, 0, 1, 1, 1, 0, 0, 0, 1]}\n",
      "\n",
      "linreg_1: предсказание заняло 0.02 секунд\n",
      "Результат: {'predictions': [0.5035105698242556, 0.498693189052693, 0.5058725697037877, 0.49716803828232065, 0.49565610246348646, 0.49594751029734185, 0.5102173742849082, 0.5078504681797146, 0.5047366905308756, 0.4998076991499291]}\n"
     ]
    }
   ],
   "source": [
    "import threading\n",
    "import time\n",
    "\n",
    "results = {}\n",
    "\n",
    "print(\"Загрузка logreg:\", client_load(\"logreg_1\"))\n",
    "print(\"Загрузка linreg:\", client_load(\"linreg_1\"))\n",
    "\n",
    "def predict_async(name, X):\n",
    "    start = time.time()\n",
    "    try:\n",
    "        res = client_predict(name, X)\n",
    "        duration = time.time() - start\n",
    "        results[name] = {\n",
    "            \"result\": res,\n",
    "            \"duration\": duration\n",
    "        }\n",
    "        print(f\"[{name}] завершено за {duration:.2f} секунд\")\n",
    "    except Exception as e:\n",
    "        print(f\"[{name}] ошибка: {e}\")\n",
    "\n",
    "t1 = threading.Thread(target=predict_async, args=(\"logreg_1\", X_log_new))\n",
    "t2 = threading.Thread(target=predict_async, args=(\"linreg_1\", X_lin_new))\n",
    "\n",
    "start_total = time.time()\n",
    "t1.start()\n",
    "t2.start()\n",
    "t1.join()\n",
    "t2.join()\n",
    "end_total = time.time()\n",
    "\n",
    "print(f\"\\n[ИТОГО] Асинхронное предсказание заняло {end_total - start_total:.2f} секунд\")\n",
    "\n",
    "for name, r in results.items():\n",
    "    print(f\"\\n{name}: предсказание заняло {r['duration']:.2f} секунд\")\n",
    "    print(\"Результат:\", r[\"result\"])"
   ]
  }
 ],
 "metadata": {
  "kernelspec": {
   "display_name": "Python 3",
   "language": "python",
   "name": "python3"
  },
  "language_info": {
   "codemirror_mode": {
    "name": "ipython",
    "version": 3
   },
   "file_extension": ".py",
   "mimetype": "text/x-python",
   "name": "python",
   "nbconvert_exporter": "python",
   "pygments_lexer": "ipython3",
   "version": "3.8.10"
  }
 },
 "nbformat": 4,
 "nbformat_minor": 5
}
